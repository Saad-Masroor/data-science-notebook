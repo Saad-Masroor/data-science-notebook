{
 "cells": [
  {
   "cell_type": "markdown",
   "id": "0a5f73e6-751b-4839-a9e8-09a3863ea4ad",
   "metadata": {},
   "source": [
    "# Data Science Tools and Ecosystem\n"
   ]
  },
  {
   "cell_type": "markdown",
   "id": "79476a96-646a-461f-a939-bc8e4b7f695a",
   "metadata": {},
   "source": [
    "## Introduction\n",
    "\n"
   ]
  },
  {
   "cell_type": "markdown",
   "id": "54052a33-584b-4108-9497-be2f15d97a1b",
   "metadata": {},
   "source": [
    "This notebook provides an overview of some of the key tools, languages, and libraries used in Data Science. It also includes basic examples of arithmetic expressions using Python.\n"
   ]
  },
  {
   "cell_type": "markdown",
   "id": "b48890e9-f9d1-42a7-b2e5-7735847e637d",
   "metadata": {},
   "source": [
    "## Data Science Languages\n"
   ]
  },
  {
   "cell_type": "markdown",
   "id": "6cfbd1ce-442f-4d63-934b-8b766350e779",
   "metadata": {},
   "source": [
    "\n",
    "- Python  \n",
    "- R  \n",
    "- SQL  \n",
    "- Julia  \n",
    "- Scala\n"
   ]
  },
  {
   "cell_type": "markdown",
   "id": "916f3543-e6fc-43ff-8b84-f5f16e504df1",
   "metadata": {},
   "source": [
    "## Data Science Libraries\n",
    "\n"
   ]
  },
  {
   "cell_type": "markdown",
   "id": "774529db-6636-445a-8e0f-1e4439eff20c",
   "metadata": {},
   "source": [
    "\n",
    "Some of the commonly used libraries in Data Science include:\n",
    "\n",
    "- NumPy  \n",
    "- Pandas  \n",
    "- Matplotlib  \n",
    "- Scikit-learn  \n",
    "- TensorFlow  \n",
    "- Keras"
   ]
  },
  {
   "cell_type": "markdown",
   "id": "181a28c5-6f1f-46d8-85aa-ab11067a8ab3",
   "metadata": {},
   "source": [
    "## Table of Data Science Tools\n",
    "\n"
   ]
  },
  {
   "cell_type": "markdown",
   "id": "cb8b0767-c4ca-4a8f-ab88-347d1fe2c85a",
   "metadata": {},
   "source": [
    "\n",
    "|     Category     | Tool             |\n",
    "|------------------|------------------|\n",
    "| Language         | Python           |\n",
    "| IDE              | Jupyter Notebook |\n",
    "| Visualization    | Tableau          |\n",
    "| Machine Learning | Scikit-learn     |\n",
    "| Deep Learning    | TensorFlow       |"
   ]
  },
  {
   "cell_type": "markdown",
   "id": "7fbbcf9f-6679-4969-8d65-ea54d9fdec7d",
   "metadata": {},
   "source": [
    "## Examples of Arithmetic Expressions\n",
    "\n",
    "\n"
   ]
  },
  {
   "cell_type": "markdown",
   "id": "3f77a78d-591e-4bf9-8929-fca233b4f37a",
   "metadata": {},
   "source": [
    "Below are some examples of simple arithmetic expressions in Python."
   ]
  },
  {
   "cell_type": "code",
   "execution_count": 6,
   "id": "cdc0d124-a628-4324-b01c-a789c5bdbf51",
   "metadata": {},
   "outputs": [
    {
     "data": {
      "text/plain": [
       "17"
      ]
     },
     "execution_count": 6,
     "metadata": {},
     "output_type": "execute_result"
    }
   ],
   "source": [
    "# This code multiplies and adds numbers\n",
    "(3 * 4) + 5\n"
   ]
  },
  {
   "cell_type": "code",
   "execution_count": 7,
   "id": "2327dc19-e575-4f88-9887-c7e64feb1189",
   "metadata": {},
   "outputs": [
    {
     "data": {
      "text/plain": [
       "3.3333333333333335"
      ]
     },
     "execution_count": 7,
     "metadata": {},
     "output_type": "execute_result"
    }
   ],
   "source": [
    "# This code converts minutes to hours\n",
    "minutes = 200\n",
    "hours = minutes / 60\n",
    "hours\n"
   ]
  },
  {
   "cell_type": "markdown",
   "id": "974ec419-bfbc-4bc9-bcfe-bf33a08e1151",
   "metadata": {},
   "source": [
    "## Objectives\n"
   ]
  },
  {
   "cell_type": "markdown",
   "id": "a455d8e3-fea2-447a-a010-1a9d2122f67c",
   "metadata": {},
   "source": [
    "- Learn key languages used in data science  \n",
    "- Explore popular libraries and tools  \n",
    "- Understand basic arithmetic in Python  \n",
    "- Practice Markdown formatting in Jupyter Notebooks  \n",
    "- Share work via GitHub"
   ]
  },
  {
   "cell_type": "markdown",
   "id": "c1b1976c-9fa9-4383-8a5d-3f9d7a06d4ee",
   "metadata": {},
   "source": [
    "## Author\n",
    "\n"
   ]
  },
  {
   "cell_type": "markdown",
   "id": "1804b933-733e-4ab4-94f9-431e8e4c1c9a",
   "metadata": {},
   "source": [
    "\n",
    "**Muhammad Saad Bin Masroor**"
   ]
  }
 ],
 "metadata": {
  "kernelspec": {
   "display_name": "Python 3 (ipykernel)",
   "language": "python",
   "name": "python3"
  },
  "language_info": {
   "codemirror_mode": {
    "name": "ipython",
    "version": 3
   },
   "file_extension": ".py",
   "mimetype": "text/x-python",
   "name": "python",
   "nbconvert_exporter": "python",
   "pygments_lexer": "ipython3",
   "version": "3.13.3"
  }
 },
 "nbformat": 4,
 "nbformat_minor": 5
}
